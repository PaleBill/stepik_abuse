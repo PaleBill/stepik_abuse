{
  "nbformat": 4,
  "nbformat_minor": 0,
  "metadata": {
    "colab": {
      "provenance": [],
      "authorship_tag": "ABX9TyM3gXVdFm6ysII4qSAeyTPr"
    },
    "kernelspec": {
      "name": "python3",
      "display_name": "Python 3"
    },
    "language_info": {
      "name": "python"
    }
  },
  "cells": [
    {
      "cell_type": "code",
      "execution_count": 1,
      "metadata": {
        "id": "-0757GgUNUh9"
      },
      "outputs": [],
      "source": [
        "%%capture\n",
        "!pip install pydub pyht\n",
        "!pip install -U g4f[all]"
      ]
    },
    {
      "cell_type": "code",
      "source": [
        "import random\n",
        "from pydub import AudioSegment\n",
        "from io import BytesIO\n",
        "import requests\n",
        "from tqdm.notebook import tqdm\n",
        "import IPython\n",
        "import json\n",
        "\n",
        "from pyht import Client\n",
        "from pyht.client import TTSOptions\n",
        "import re\n",
        "\n",
        "import nltk\n",
        "from nltk.tokenize.punkt import PunktSentenceTokenizer, PunktParameters\n",
        "\n",
        "\n",
        "import nest_asyncio\n",
        "import g4f\n",
        "nest_asyncio.apply()\n",
        "\n",
        "import shutil\n",
        "from tqdm.notebook import tqdm"
      ],
      "metadata": {
        "id": "h-4o-qfoNbKh"
      },
      "execution_count": null,
      "outputs": []
    },
    {
      "cell_type": "markdown",
      "source": [
        "# GPT"
      ],
      "metadata": {
        "id": "rLru2tCENzIm"
      }
    },
    {
      "cell_type": "code",
      "source": [
        "def find_acitve_gpt():\n",
        "  active_providers = []\n",
        "  providers = dir(g4f.Provider)\n",
        "  for provider in providers:\n",
        "    provider = getattr(g4f.Provider, provider)\n",
        "    try:\n",
        "      response = g4f.ChatCompletion.create(\n",
        "      model=\"gpt-3.5-turbo\",\n",
        "      messages=[{\"role\": \"user\", \"content\": \"Tell me your model name\"}],\n",
        "      provider=provider\n",
        "      )\n",
        "      print(response)\n",
        "\n",
        "      if response != '':\n",
        "        active_providers.append(provider)\n",
        "    except:\n",
        "      continue\n",
        "  return active_providers"
      ],
      "metadata": {
        "id": "QbExJy8nNoQ2"
      },
      "execution_count": null,
      "outputs": []
    },
    {
      "cell_type": "code",
      "source": [
        "def prompt(text):\n",
        "  response = g4f.ChatCompletion.create(\n",
        "    model=\"gpt-3.5-turbo\",\n",
        "    messages=[{\"role\": \"user\", \"content\": \"I need you to translate from Russian to English and rewrite my text for 'speech text' for narrator and to make it more engaging, but you should sound natural and in casual style, also revise text for proper spelling and grammar. Ignore all tables and tasks.\"},\n",
        "              {'role':'assistant','content':'I am a professional rewriter and I am ready to assist you with rewriting your text to ensure better flow and increased engagement. Additionally, I will thoroughly review the text to correct any spelling and grammar errors. Thank you for entrusting me with this task.'},\n",
        "              {'role':'user','content':text}],\n",
        "    provider=g4f.Provider.Liaobots\n",
        ")\n",
        "\n",
        "  return response"
      ],
      "metadata": {
        "id": "AaOdbq0ANrmW"
      },
      "execution_count": null,
      "outputs": []
    },
    {
      "cell_type": "markdown",
      "source": [
        "# Voice"
      ],
      "metadata": {
        "id": "g24FL-CXN0mf"
      }
    },
    {
      "cell_type": "code",
      "source": [
        "def get_payload(text):\n",
        "  payload = {\n",
        "      \"text\": text,\n",
        "      \"voice\": \"s3://voice-cloning-zero-shot/4bc2279c-ec2e-471f-9369-faf5dac29321/original/manifest.json\",\n",
        "      \"output_format\": \"mp3\",\n",
        "      \"voice_engine\": \"PlayHT2.0\",\n",
        "      \"temperature\": 0.333,\n",
        "      \"seed\": 42}\n",
        "  return payload"
      ],
      "metadata": {
        "id": "3HTn3p3tN_P4"
      },
      "execution_count": 2,
      "outputs": []
    },
    {
      "cell_type": "code",
      "execution_count": null,
      "metadata": {
        "id": "oW1KgnipC5iE"
      },
      "outputs": [],
      "source": [
        "def get_headers(api,user_id):\n",
        "  headers = {\n",
        "    \"accept\": \"text/event-stream\",\n",
        "    \"content-type\": \"application/json\",\n",
        "    \"AUTHORIZATION\": api,\n",
        "    \"X-USER-ID\": user_id}\n",
        "  return headers"
      ]
    },
    {
      "cell_type": "code",
      "execution_count": null,
      "metadata": {
        "id": "SEAbAEsbB4rO"
      },
      "outputs": [],
      "source": [
        "def api_checker(text):\n",
        "\n",
        "  for API in APIs:\n",
        "    if len(text) + 1 < APIs[API]:\n",
        "      api = API\n",
        "      url = \"https://api.play.ht/api/v2/tts\"\n",
        "\n",
        "      payload = {\n",
        "          \"text\": \"h\",\n",
        "          \"voice\": \"s3://voice-cloning-zero-shot/d9ff78ba-d016-47f6-b0ef-dd630f59414e/female-cs/manifest.json\",\n",
        "          \"output_format\": \"mp3\",\n",
        "          \"voice_engine\": \"PlayHT2.0\"\n",
        "      }\n",
        "      headers = {\n",
        "          \"accept\": \"text/event-stream\",\n",
        "          \"content-type\": \"application/json\",\n",
        "          \"AUTHORIZATION\": api,\n",
        "          \"X-USER-ID\": user_ids[api]}\n",
        "\n",
        "      response = requests.post(url, json=payload, headers=headers)\n",
        "\n",
        "      if response.status_code == 200:\n",
        "        APIs[api] -= 1\n",
        "        return api\n",
        "      else:\n",
        "        continue"
      ]
    },
    {
      "cell_type": "code",
      "execution_count": null,
      "metadata": {
        "id": "Ams9bTGoIhr5"
      },
      "outputs": [],
      "source": [
        "def TTS(text):\n",
        "  #название файла\n",
        "  path = text.split()[0]\n",
        "\n",
        "  # Создаем токенизатор предложений с нашими параметрами\n",
        "  punkt_param = PunktParameters()\n",
        "  punkt_param.abbrev_types = set(abbreviations)\n",
        "  tokenizer = PunktSentenceTokenizer(punkt_param)\n",
        "  # Разбиваем текст на предложения\n",
        "  sentences = tokenizer.tokenize(text)\n",
        "\n",
        "\n",
        "  audio_files = []\n",
        "  for sentence in tqdm(sentences):\n",
        "    api = api_checker(sentence)\n",
        "    APIs[api] -= len(sentence)\n",
        "\n",
        "    #создание headers\n",
        "    user_id = user_ids[api]\n",
        "    headers = get_headers(api,user_id)\n",
        "\n",
        "    # создаем настройки для синтеза голоса, параметр только предложение\n",
        "    payload = get_payload(sentence)\n",
        "    make_audio = requests.post(playht_url, json=payload, headers=headers)\n",
        "\n",
        "    audio_url = make_audio.text.split('\"url\":\"')[1].split('\",\"duration\"')[0]\n",
        "\n",
        "    download_audio = requests.get(audio_url)\n",
        "    audio_bytes = BytesIO(download_audio.content)\n",
        "    audio_file = AudioSegment.from_file(audio_bytes)\n",
        "    audio_files.append(audio_file)\n",
        "\n",
        "  with open('/content/drive/MyDrive/Colab Notebooks/datasets/APIs.json', 'w') as f:\n",
        "    json.dump(user_ids, f)\n",
        "\n",
        "  return merge_audio(audio_files,path)"
      ]
    },
    {
      "cell_type": "code",
      "execution_count": null,
      "metadata": {
        "id": "xi8gxF3gIFBO"
      },
      "outputs": [],
      "source": [
        "def merge_audio(audio_files,path):\n",
        "\n",
        "  # Создание сегмента тишины продолжительностью 1 секунда\n",
        "  silence = AudioSegment.silent(duration=1)\n",
        "\n",
        "  # Создание списка сегментов аудиофайлов\n",
        "  audio_segments = [AudioSegment.from_wav(file) for file in audio_files]\n",
        "\n",
        "  # Создание списка для склеенных сегментов\n",
        "  merged_segments = []\n",
        "\n",
        "  # Добавление первого сегмента\n",
        "  merged_segments.append(audio_segments[0])\n",
        "\n",
        "  # Добавление паузы и остальных аудиофайлов\n",
        "  for segment in tqdm(audio_segments[1:]):\n",
        "    merged_segments.extend([silence, segment])\n",
        "\n",
        "  # Склеивание аудиофайлов\n",
        "  merged_audio = sum(merged_segments)\n",
        "\n",
        "  path = f\"{path}.wav\"\n",
        "  # Сохранение склеенного аудиофайла\n",
        "  merged_audio.export(path, format=\"wav\")\n",
        "  return path"
      ]
    },
    {
      "cell_type": "code",
      "source": [
        "!ssh-keygen -t ed25519 -C \"ggwpshnik27@gmail.com\""
      ],
      "metadata": {
        "colab": {
          "base_uri": "https://localhost:8080/"
        },
        "id": "SEhniDrFOgYA",
        "outputId": "f7908df6-e490-4e1b-e769-97384fd8dd50"
      },
      "execution_count": 11,
      "outputs": [
        {
          "output_type": "stream",
          "name": "stdout",
          "text": [
            "Generating public/private ed25519 key pair.\n",
            "Enter file in which to save the key (/root/.ssh/id_ed25519): file\n",
            "Enter passphrase (empty for no passphrase): \n",
            "Enter same passphrase again: \n",
            "Your identification has been saved in file\n",
            "Your public key has been saved in file.pub\n",
            "The key fingerprint is:\n",
            "SHA256:FfVXW6US8yNKMrNnzPsk+8XhU+Y8Fqel2fmve5cpMs8 ggwpshnik27@gmail.com\n",
            "The key's randomart image is:\n",
            "+--[ED25519 256]--+\n",
            "|          ..+   =|\n",
            "|           . = .+|\n",
            "|        + o o =..|\n",
            "|         X . o o |\n",
            "|        S *   ..=|\n",
            "|         o . o %+|\n",
            "|          o . O+*|\n",
            "|           B.o.+=|\n",
            "|          ..*E++=|\n",
            "+----[SHA256]-----+\n"
          ]
        }
      ]
    },
    {
      "cell_type": "code",
      "source": [],
      "metadata": {
        "id": "jA1nEfPoO-ZD"
      },
      "execution_count": null,
      "outputs": []
    }
  ]
}