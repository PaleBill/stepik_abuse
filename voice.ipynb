{
  "nbformat": 4,
  "nbformat_minor": 0,
  "metadata": {
    "colab": {
      "provenance": []
    },
    "kernelspec": {
      "name": "python3",
      "display_name": "Python 3"
    },
    "language_info": {
      "name": "python"
    },
    "widgets": {
      "application/vnd.jupyter.widget-state+json": {
        "c8e3b37edc9f42789a280a54453b86d9": {
          "model_module": "@jupyter-widgets/controls",
          "model_name": "HBoxModel",
          "model_module_version": "1.5.0",
          "state": {
            "_dom_classes": [],
            "_model_module": "@jupyter-widgets/controls",
            "_model_module_version": "1.5.0",
            "_model_name": "HBoxModel",
            "_view_count": null,
            "_view_module": "@jupyter-widgets/controls",
            "_view_module_version": "1.5.0",
            "_view_name": "HBoxView",
            "box_style": "",
            "children": [
              "IPY_MODEL_f00486c63f884af3aa70b22c7e731a92",
              "IPY_MODEL_a2bc87195b944d4885a4002cc99e3913",
              "IPY_MODEL_03ad8d1988ed4d2899bd7f2eaac89274"
            ],
            "layout": "IPY_MODEL_b7e3e819101942bd8973d4917a33ae70"
          }
        },
        "f00486c63f884af3aa70b22c7e731a92": {
          "model_module": "@jupyter-widgets/controls",
          "model_name": "HTMLModel",
          "model_module_version": "1.5.0",
          "state": {
            "_dom_classes": [],
            "_model_module": "@jupyter-widgets/controls",
            "_model_module_version": "1.5.0",
            "_model_name": "HTMLModel",
            "_view_count": null,
            "_view_module": "@jupyter-widgets/controls",
            "_view_module_version": "1.5.0",
            "_view_name": "HTMLView",
            "description": "",
            "description_tooltip": null,
            "layout": "IPY_MODEL_2c0234a0843146c382b073997648fafe",
            "placeholder": "​",
            "style": "IPY_MODEL_aab233b9cf304120b4f8d2f6a0360fc7",
            "value": "100%"
          }
        },
        "a2bc87195b944d4885a4002cc99e3913": {
          "model_module": "@jupyter-widgets/controls",
          "model_name": "FloatProgressModel",
          "model_module_version": "1.5.0",
          "state": {
            "_dom_classes": [],
            "_model_module": "@jupyter-widgets/controls",
            "_model_module_version": "1.5.0",
            "_model_name": "FloatProgressModel",
            "_view_count": null,
            "_view_module": "@jupyter-widgets/controls",
            "_view_module_version": "1.5.0",
            "_view_name": "ProgressView",
            "bar_style": "success",
            "description": "",
            "description_tooltip": null,
            "layout": "IPY_MODEL_4c7085438ca04f95b3689742bad366e2",
            "max": 22,
            "min": 0,
            "orientation": "horizontal",
            "style": "IPY_MODEL_d4104e21767e421c82bb06f78637b119",
            "value": 22
          }
        },
        "03ad8d1988ed4d2899bd7f2eaac89274": {
          "model_module": "@jupyter-widgets/controls",
          "model_name": "HTMLModel",
          "model_module_version": "1.5.0",
          "state": {
            "_dom_classes": [],
            "_model_module": "@jupyter-widgets/controls",
            "_model_module_version": "1.5.0",
            "_model_name": "HTMLModel",
            "_view_count": null,
            "_view_module": "@jupyter-widgets/controls",
            "_view_module_version": "1.5.0",
            "_view_name": "HTMLView",
            "description": "",
            "description_tooltip": null,
            "layout": "IPY_MODEL_9cf3dad01c9d432c943e57c5299b5ee7",
            "placeholder": "​",
            "style": "IPY_MODEL_9910f852c05f474393a45a89df544566",
            "value": " 22/22 [02:58&lt;00:00,  7.16s/it]"
          }
        },
        "b7e3e819101942bd8973d4917a33ae70": {
          "model_module": "@jupyter-widgets/base",
          "model_name": "LayoutModel",
          "model_module_version": "1.2.0",
          "state": {
            "_model_module": "@jupyter-widgets/base",
            "_model_module_version": "1.2.0",
            "_model_name": "LayoutModel",
            "_view_count": null,
            "_view_module": "@jupyter-widgets/base",
            "_view_module_version": "1.2.0",
            "_view_name": "LayoutView",
            "align_content": null,
            "align_items": null,
            "align_self": null,
            "border": null,
            "bottom": null,
            "display": null,
            "flex": null,
            "flex_flow": null,
            "grid_area": null,
            "grid_auto_columns": null,
            "grid_auto_flow": null,
            "grid_auto_rows": null,
            "grid_column": null,
            "grid_gap": null,
            "grid_row": null,
            "grid_template_areas": null,
            "grid_template_columns": null,
            "grid_template_rows": null,
            "height": null,
            "justify_content": null,
            "justify_items": null,
            "left": null,
            "margin": null,
            "max_height": null,
            "max_width": null,
            "min_height": null,
            "min_width": null,
            "object_fit": null,
            "object_position": null,
            "order": null,
            "overflow": null,
            "overflow_x": null,
            "overflow_y": null,
            "padding": null,
            "right": null,
            "top": null,
            "visibility": null,
            "width": null
          }
        },
        "2c0234a0843146c382b073997648fafe": {
          "model_module": "@jupyter-widgets/base",
          "model_name": "LayoutModel",
          "model_module_version": "1.2.0",
          "state": {
            "_model_module": "@jupyter-widgets/base",
            "_model_module_version": "1.2.0",
            "_model_name": "LayoutModel",
            "_view_count": null,
            "_view_module": "@jupyter-widgets/base",
            "_view_module_version": "1.2.0",
            "_view_name": "LayoutView",
            "align_content": null,
            "align_items": null,
            "align_self": null,
            "border": null,
            "bottom": null,
            "display": null,
            "flex": null,
            "flex_flow": null,
            "grid_area": null,
            "grid_auto_columns": null,
            "grid_auto_flow": null,
            "grid_auto_rows": null,
            "grid_column": null,
            "grid_gap": null,
            "grid_row": null,
            "grid_template_areas": null,
            "grid_template_columns": null,
            "grid_template_rows": null,
            "height": null,
            "justify_content": null,
            "justify_items": null,
            "left": null,
            "margin": null,
            "max_height": null,
            "max_width": null,
            "min_height": null,
            "min_width": null,
            "object_fit": null,
            "object_position": null,
            "order": null,
            "overflow": null,
            "overflow_x": null,
            "overflow_y": null,
            "padding": null,
            "right": null,
            "top": null,
            "visibility": null,
            "width": null
          }
        },
        "aab233b9cf304120b4f8d2f6a0360fc7": {
          "model_module": "@jupyter-widgets/controls",
          "model_name": "DescriptionStyleModel",
          "model_module_version": "1.5.0",
          "state": {
            "_model_module": "@jupyter-widgets/controls",
            "_model_module_version": "1.5.0",
            "_model_name": "DescriptionStyleModel",
            "_view_count": null,
            "_view_module": "@jupyter-widgets/base",
            "_view_module_version": "1.2.0",
            "_view_name": "StyleView",
            "description_width": ""
          }
        },
        "4c7085438ca04f95b3689742bad366e2": {
          "model_module": "@jupyter-widgets/base",
          "model_name": "LayoutModel",
          "model_module_version": "1.2.0",
          "state": {
            "_model_module": "@jupyter-widgets/base",
            "_model_module_version": "1.2.0",
            "_model_name": "LayoutModel",
            "_view_count": null,
            "_view_module": "@jupyter-widgets/base",
            "_view_module_version": "1.2.0",
            "_view_name": "LayoutView",
            "align_content": null,
            "align_items": null,
            "align_self": null,
            "border": null,
            "bottom": null,
            "display": null,
            "flex": null,
            "flex_flow": null,
            "grid_area": null,
            "grid_auto_columns": null,
            "grid_auto_flow": null,
            "grid_auto_rows": null,
            "grid_column": null,
            "grid_gap": null,
            "grid_row": null,
            "grid_template_areas": null,
            "grid_template_columns": null,
            "grid_template_rows": null,
            "height": null,
            "justify_content": null,
            "justify_items": null,
            "left": null,
            "margin": null,
            "max_height": null,
            "max_width": null,
            "min_height": null,
            "min_width": null,
            "object_fit": null,
            "object_position": null,
            "order": null,
            "overflow": null,
            "overflow_x": null,
            "overflow_y": null,
            "padding": null,
            "right": null,
            "top": null,
            "visibility": null,
            "width": null
          }
        },
        "d4104e21767e421c82bb06f78637b119": {
          "model_module": "@jupyter-widgets/controls",
          "model_name": "ProgressStyleModel",
          "model_module_version": "1.5.0",
          "state": {
            "_model_module": "@jupyter-widgets/controls",
            "_model_module_version": "1.5.0",
            "_model_name": "ProgressStyleModel",
            "_view_count": null,
            "_view_module": "@jupyter-widgets/base",
            "_view_module_version": "1.2.0",
            "_view_name": "StyleView",
            "bar_color": null,
            "description_width": ""
          }
        },
        "9cf3dad01c9d432c943e57c5299b5ee7": {
          "model_module": "@jupyter-widgets/base",
          "model_name": "LayoutModel",
          "model_module_version": "1.2.0",
          "state": {
            "_model_module": "@jupyter-widgets/base",
            "_model_module_version": "1.2.0",
            "_model_name": "LayoutModel",
            "_view_count": null,
            "_view_module": "@jupyter-widgets/base",
            "_view_module_version": "1.2.0",
            "_view_name": "LayoutView",
            "align_content": null,
            "align_items": null,
            "align_self": null,
            "border": null,
            "bottom": null,
            "display": null,
            "flex": null,
            "flex_flow": null,
            "grid_area": null,
            "grid_auto_columns": null,
            "grid_auto_flow": null,
            "grid_auto_rows": null,
            "grid_column": null,
            "grid_gap": null,
            "grid_row": null,
            "grid_template_areas": null,
            "grid_template_columns": null,
            "grid_template_rows": null,
            "height": null,
            "justify_content": null,
            "justify_items": null,
            "left": null,
            "margin": null,
            "max_height": null,
            "max_width": null,
            "min_height": null,
            "min_width": null,
            "object_fit": null,
            "object_position": null,
            "order": null,
            "overflow": null,
            "overflow_x": null,
            "overflow_y": null,
            "padding": null,
            "right": null,
            "top": null,
            "visibility": null,
            "width": null
          }
        },
        "9910f852c05f474393a45a89df544566": {
          "model_module": "@jupyter-widgets/controls",
          "model_name": "DescriptionStyleModel",
          "model_module_version": "1.5.0",
          "state": {
            "_model_module": "@jupyter-widgets/controls",
            "_model_module_version": "1.5.0",
            "_model_name": "DescriptionStyleModel",
            "_view_count": null,
            "_view_module": "@jupyter-widgets/base",
            "_view_module_version": "1.2.0",
            "_view_name": "StyleView",
            "description_width": ""
          }
        }
      }
    }
  },
  "cells": [
    {
      "cell_type": "code",
      "execution_count": null,
      "metadata": {
        "id": "-0757GgUNUh9"
      },
      "outputs": [],
      "source": [
        "%%capture\n",
        "!pip install pydub pyht\n",
        "!pip install -U g4f[all]"
      ]
    },
    {
      "cell_type": "code",
      "source": [
        "import random\n",
        "from pydub import AudioSegment\n",
        "from io import BytesIO\n",
        "import requests\n",
        "from tqdm.notebook import tqdm\n",
        "import IPython\n",
        "import json\n",
        "\n",
        "from pyht import Client\n",
        "from pyht.client import TTSOptions\n",
        "import re\n",
        "\n",
        "import nltk\n",
        "from nltk.tokenize.punkt import PunktSentenceTokenizer, PunktParameters\n",
        "\n",
        "\n",
        "import nest_asyncio\n",
        "import g4f\n",
        "nest_asyncio.apply()\n",
        "\n",
        "import shutil\n",
        "from tqdm.notebook import tqdm\n",
        "import pickle\n",
        "import os"
      ],
      "metadata": {
        "id": "h-4o-qfoNbKh"
      },
      "execution_count": null,
      "outputs": []
    },
    {
      "cell_type": "code",
      "source": [
        "abbreviations = [\"etc\", \"err\", \"et\", \"ex\", \"e.g\", \"fin\", \"i.e\", \"vs\", \"N.B\", \"AD\", \"BC\", \"AM\", \"PM\", \"P.S\", \"mph\", \"kph\", \"ft\", \"lb\", \"oz\", \"pt\", \"in\", \"sec\", \"g\", \"cm\", \"qt\"]\n",
        "\n",
        "playht_url = \"https://api.play.ht/api/v2/tts\""
      ],
      "metadata": {
        "id": "UDGimDaMzVsB"
      },
      "execution_count": null,
      "outputs": []
    },
    {
      "cell_type": "markdown",
      "source": [
        "# GPT"
      ],
      "metadata": {
        "id": "rLru2tCENzIm"
      }
    },
    {
      "cell_type": "code",
      "source": [
        "def find_acitve_gpt():\n",
        "  active_providers = []\n",
        "  providers = dir(g4f.Provider)\n",
        "  for provider in providers:\n",
        "    provider = getattr(g4f.Provider, provider)\n",
        "    try:\n",
        "      response = g4f.ChatCompletion.create(\n",
        "      model=\"gpt-3.5-turbo\",\n",
        "      messages=[{\"role\": \"user\", \"content\": \"Tell me your model name\"}],\n",
        "      provider=provider\n",
        "      )\n",
        "      print(response)\n",
        "\n",
        "      if response != '':\n",
        "        active_providers.append(provider)\n",
        "    except:\n",
        "      continue\n",
        "  return active_providers"
      ],
      "metadata": {
        "id": "QbExJy8nNoQ2"
      },
      "execution_count": null,
      "outputs": []
    },
    {
      "cell_type": "code",
      "source": [
        "def prompt(text):\n",
        "  response = g4f.ChatCompletion.create(\n",
        "    model=g4f.models.mixtral_8x7b,\n",
        "    messages=[{\"role\": \"user\", \"content\": \"I need you to translate from Russian to English and rewrite my text for 'speech text' for narrator and to make it more engaging, but you should sound natural and in casual style, also revise text for proper spelling and grammar.Send me 'Here's the translation and rewrite of the text for a speech:' and provide your answer\"},\n",
        "              {'role':'assistant','content':\"Sure, I can help with that. Please provide the Russian text you'd like me to translate and rewrite for a more engaging, casual style.\"},\n",
        "              {'role':'user','content':text}],\n",
        "    #provider=g4f.Provider.Liaobots\n",
        ")\n",
        "\n",
        "  return response"
      ],
      "metadata": {
        "id": "AaOdbq0ANrmW"
      },
      "execution_count": null,
      "outputs": []
    },
    {
      "cell_type": "markdown",
      "source": [
        "# Voice"
      ],
      "metadata": {
        "id": "g24FL-CXN0mf"
      }
    },
    {
      "cell_type": "code",
      "source": [
        "def save_api():\n",
        "\n",
        "  with open('apis.pkl', \"wb\") as file:\n",
        "    # Use pickle to dump the list to the file\n",
        "     pickle.dump(APIs, file)"
      ],
      "metadata": {
        "id": "hdm8J9cyNYP4"
      },
      "execution_count": null,
      "outputs": []
    },
    {
      "cell_type": "code",
      "source": [
        "def combine_sentences(sentences):\n",
        "    combined_sentences = []\n",
        "    current_length = 0\n",
        "    current_sentence = ''\n",
        "\n",
        "    for sentence in sentences:\n",
        "        if current_length + len(sentence) < 2000:\n",
        "            current_sentence += sentence\n",
        "            current_length += len(sentence)\n",
        "        else:\n",
        "            combined_sentences.append(current_sentence.strip())\n",
        "            current_sentence = sentence\n",
        "            current_length = len(sentence)\n",
        "\n",
        "    # Добавляем оставшееся предложение\n",
        "    if current_sentence:\n",
        "        combined_sentences.append(current_sentence.strip())\n",
        "\n",
        "    return combined_sentences"
      ],
      "metadata": {
        "id": "vZgxpRSWGRXx"
      },
      "execution_count": null,
      "outputs": []
    },
    {
      "cell_type": "code",
      "source": [
        "def get_payload(text):\n",
        "  payload = {\n",
        "      \"text\": text,\n",
        "      \"voice\": \"s3://voice-cloning-zero-shot/4bc2279c-ec2e-471f-9369-faf5dac29321/original/manifest.json\",\n",
        "      \"output_format\": \"mp3\",\n",
        "      \"voice_engine\": \"PlayHT2.0\",\n",
        "      \"temperature\": 0.333,\n",
        "      \"seed\": 42}\n",
        "  return payload"
      ],
      "metadata": {
        "id": "3HTn3p3tN_P4"
      },
      "execution_count": null,
      "outputs": []
    },
    {
      "cell_type": "code",
      "execution_count": null,
      "metadata": {
        "id": "oW1KgnipC5iE"
      },
      "outputs": [],
      "source": [
        "def get_headers(api,user_id):\n",
        "  headers = {\n",
        "    \"accept\": \"text/event-stream\",\n",
        "    \"content-type\": \"application/json\",\n",
        "    \"AUTHORIZATION\": api,\n",
        "    \"X-USER-ID\": user_id}\n",
        "  return headers"
      ]
    },
    {
      "cell_type": "code",
      "execution_count": null,
      "metadata": {
        "id": "SEAbAEsbB4rO"
      },
      "outputs": [],
      "source": [
        "def api_checker(text):\n",
        "\n",
        "  for API in APIs:\n",
        "    if len(text) + 1 < APIs[API][1]:\n",
        "      api = API\n",
        "      url = \"https://api.play.ht/api/v2/tts\"\n",
        "\n",
        "      payload = {\n",
        "          \"text\": \"h\",\n",
        "          \"voice\": \"s3://voice-cloning-zero-shot/d9ff78ba-d016-47f6-b0ef-dd630f59414e/female-cs/manifest.json\",\n",
        "          \"output_format\": \"mp3\",\n",
        "          \"voice_engine\": \"PlayHT2.0\"\n",
        "      }\n",
        "      headers = {\n",
        "          \"accept\": \"text/event-stream\",\n",
        "          \"content-type\": \"application/json\",\n",
        "          \"AUTHORIZATION\": api,\n",
        "          \"X-USER-ID\": APIs[api][0]}\n",
        "\n",
        "      response = requests.post(url, json=payload, headers=headers)\n",
        "\n",
        "      if response.status_code == 200:\n",
        "        APIs[api][1] -= 1\n",
        "        print(API, APIs[api][1] - len(text) )\n",
        "        return api\n",
        "      else:\n",
        "        print(f'NOT WORKING {API}, {response.status_code}')\n",
        "        continue"
      ]
    },
    {
      "cell_type": "code",
      "execution_count": null,
      "metadata": {
        "id": "Ams9bTGoIhr5"
      },
      "outputs": [],
      "source": [
        "def TTS(text):\n",
        "  #название файла\n",
        "  path = text.split()[0]+'.wav'\n",
        "\n",
        "  # Создаем токенизатор предложений с нашими параметрами\n",
        "  punkt_param = PunktParameters()\n",
        "  punkt_param.abbrev_types = set(abbreviations)\n",
        "  tokenizer = PunktSentenceTokenizer(punkt_param)\n",
        "  # Разбиваем текст на предложения\n",
        "  sentences = tokenizer.tokenize(text)\n",
        "  combined_sentences = combine_sentences(sentences)\n",
        "\n",
        "  api = api_checker(text)\n",
        "  audio_files = []\n",
        "  for sentence in tqdm(sentences):\n",
        "\n",
        "\n",
        "    #создание headers\n",
        "    user_id = APIs[api][0]\n",
        "    headers = get_headers(api,user_id)\n",
        "\n",
        "    # создаем настройки для синтеза голоса, параметр только предложение\n",
        "    payload = get_payload(sentence)\n",
        "    make_audio = requests.post(playht_url, json=payload, headers=headers)\n",
        "\n",
        "    audio_url = make_audio.text.split('\"url\":\"')[1].split('\",\"duration\"')[0]\n",
        "    APIs[api][1] -= len(sentences)\n",
        "\n",
        "    download_audio = requests.get(audio_url)\n",
        "    audio_bytes = BytesIO(download_audio.content)\n",
        "    audio_file = AudioSegment.from_file(audio_bytes)\n",
        "    audio_files.append(audio_file)\n",
        "\n",
        "  return merge_audio(audio_files,path)"
      ]
    },
    {
      "cell_type": "code",
      "execution_count": null,
      "metadata": {
        "id": "xi8gxF3gIFBO"
      },
      "outputs": [],
      "source": [
        "def merge_audio(audio_files,path):\n",
        "\n",
        "  # Создание сегмента тишины продолжительностью 1 секунда\n",
        "  silence = AudioSegment.silent(duration=1)\n",
        "\n",
        "  # Создание списка сегментов аудиофайлов\n",
        "  audio_segments = [AudioSegment.from_mono_audiosegments(file) for file in audio_files]\n",
        "\n",
        "  # Создание списка для склеенных сегментов\n",
        "  merged_segments = []\n",
        "\n",
        "  # Добавление первого сегмента\n",
        "  merged_segments.append(audio_segments[0])\n",
        "\n",
        "  # Добавление паузы и остальных аудиофайлов\n",
        "  for segment in tqdm(audio_segments[1:]):\n",
        "    merged_segments.extend([silence, segment])\n",
        "\n",
        "  # Склеивание аудиофайлов\n",
        "  merged_audio = sum(merged_segments)\n",
        "\n",
        "  # Сохранение склеенного аудиофайла\n",
        "  merged_audio.export(path, format=\"wav\")\n",
        "  return path"
      ]
    },
    {
      "cell_type": "code",
      "source": [
        "!git clone https://github.com/PaleBill/stepik_abuse\n",
        "!cd stepik_abuse"
      ],
      "metadata": {
        "id": "pTl5l-KY0fBV",
        "outputId": "1cc6d797-1ed2-489b-cb30-d957fff139ea",
        "colab": {
          "base_uri": "https://localhost:8080/"
        }
      },
      "execution_count": null,
      "outputs": [
        {
          "output_type": "stream",
          "name": "stdout",
          "text": [
            "fatal: destination path 'stepik_abuse' already exists and is not an empty directory.\n"
          ]
        }
      ]
    },
    {
      "cell_type": "code",
      "source": [
        "abbreviations = [\"etc\", \"err\", \"et\", \"ex\", \"e.g\", \"fin\", \"i.e\", \"vs\", \"N.B\", \"AD\", \"BC\", \"AM\", \"PM\", \"P.S\", \"mph\", \"kph\", \"ft\", \"lb\", \"oz\", \"pt\", \"in\", \"sec\", \"g\", \"cm\", \"qt\"]"
      ],
      "metadata": {
        "id": "UuUawVfkWCDZ"
      },
      "execution_count": null,
      "outputs": []
    },
    {
      "cell_type": "code",
      "execution_count": null,
      "metadata": {
        "id": "6tneBBqWQQoH"
      },
      "outputs": [],
      "source": [
        "keys = '''fahoweg765@mnsaf.com;Vn8hNRq*;0FzMG5HDWlfA7y8cuzrUr4Kjjlz2;1fb68c8352e7401ab9d23736be63e7fb\n",
        "lafiw72077@mnsaf.com;u3Q=9z!%;cohjCRHXy7PFfPL9TBy0HlslDcf2;ff5b56b781154f4b85aaa347bc2ddbfd\n",
        "cofopey509@nimadir.com;.5]^WUPU;gBFVYS1MuHVRz850luXkzph4l1D2;3dc9df0b56ff4380af875a5adc7c2cfc\n",
        "wogaya1695@mnsaf.com;99~YmHNm;EOupbZitomf2FZezAi4rq9YBbv62;18c08454727f4733b4986c129c0ce416\n",
        "kitici5534@mnsaf.com;~.wmyD0U;r6WO17KzCkhKHewOL7Hs5PSBKA52;979a04ffed504b96bd08e34145d8c383\n",
        "jijare6794@nimadir.com;mA3W!m*.;nBlVzGRM1uRRiqG57wGjct8RVio1;3a3b7b93ce484ecd8674576a9db632b5;8800\n",
        "natox66339@nimadir.com;%Gwq@4t_;4h41ZvnBPWcj5jNM8MXpXRhPCFt2;ace176168c21484291b1d81c9c5f260f\n",
        "pasikoc180@ikumaru.com;8}J^mQjo;9HZ3FjizglQrozMsuwbs1uFaSuS2;e8cd439492bf476e858e9690dc3606c5\n",
        "pogale2843@mnsaf.com;u39+W.@j;wUuBqR6JGPcMqkt57GuyFchhTWK2;ca0a82de967e48a48e6d268fe9b87554\n",
        "yagoviv956@evimzo.com;U}vWKyQ9;Q6Q5i6aHWnfW2y6wIZwd5wvtEHV2;ed135450e7394bf28b61cac3981e7764\n",
        "mibew89189@ekposta.com;FB~sGH4j;0n8bYe4reHZe8LLAllyZivbQfBC3;793692d016b7448988dc99ab5a005657\n",
        "disin49696@evimzo.com;Deoj1)JN;jrGpywZs3aeaE0BDiZIuA3CyclN2;7da4bf3af09a462b8080d08bc836026f\n",
        "jojinic471@felibg.com;a49q3sq!;8RJOODlZ6EfiypY9oq52nBkBh8e2;003ba0139356408488d572cbadfb1a98\n",
        "vayeco7617@ekposta.com;v^)u39]U;FEnqNtLhY5ZzQKj4y2zneWUxyIs1;c05614aa55c941b0a234c8b0b4590c20'''.split('\\n')\n"
      ]
    },
    {
      "cell_type": "markdown",
      "source": [
        "# Playground\n"
      ],
      "metadata": {
        "id": "1UZhKy240Tev"
      }
    },
    {
      "cell_type": "markdown",
      "source": [
        "## Translation Part"
      ],
      "metadata": {
        "id": "mjl2J94L5GFF"
      }
    },
    {
      "cell_type": "code",
      "source": [
        "!git clone https://github.com/PaleBill/stepik_abuse.git"
      ],
      "metadata": {
        "colab": {
          "base_uri": "https://localhost:8080/"
        },
        "id": "8rpMBeKXM2Cn",
        "outputId": "3678c47f-7bcb-4e1d-c849-420631c57532"
      },
      "execution_count": null,
      "outputs": [
        {
          "output_type": "stream",
          "name": "stdout",
          "text": [
            "Cloning into 'stepik_abuse'...\n",
            "remote: Enumerating objects: 78, done.\u001b[K\n",
            "remote: Counting objects: 100% (1/1), done.\u001b[K\n",
            "remote: Total 78 (delta 0), reused 0 (delta 0), pack-reused 77\u001b[K\n",
            "Receiving objects: 100% (78/78), 864.33 KiB | 9.50 MiB/s, done.\n",
            "Resolving deltas: 100% (18/18), done.\n"
          ]
        }
      ]
    },
    {
      "cell_type": "code",
      "source": [
        "PATH = '/content/stepik_abuse/ID_COURSE_63054/'\n"
      ],
      "metadata": {
        "id": "ZtHHM8d2O57w"
      },
      "execution_count": null,
      "outputs": []
    },
    {
      "cell_type": "code",
      "source": [
        "import json"
      ],
      "metadata": {
        "id": "S3JREwJMRUtE"
      },
      "execution_count": null,
      "outputs": []
    },
    {
      "cell_type": "code",
      "source": [
        "main_dir = os.listdir(PATH)\n",
        "pathes = []\n",
        "for dir in main_dir:\n",
        "  lessons = os.listdir(PATH+dir)\n",
        "  for lesson in lessons:\n",
        "    new_path = PATH + dir + '/' + lesson\n",
        "    for text in os.listdir(new_path):\n",
        "      pathes.append(new_path+'/'+text)"
      ],
      "metadata": {
        "id": "-6j-60x5OM5n"
      },
      "execution_count": null,
      "outputs": []
    },
    {
      "cell_type": "code",
      "source": [
        "texts = {}\n",
        "failed_json = []\n",
        "for path in pathes:\n",
        "  with open(path, 'r', encoding='UTF-8') as f:\n",
        "      data = json.load(f)\n",
        "  try:\n",
        "    text = data[0]['steps'][0]['text']['text']\n",
        "    texts[path] = text\n",
        "  except:\n",
        "    failed_json.append(path)\n",
        "    continue"
      ],
      "metadata": {
        "id": "Ndw8-aX3OZNH"
      },
      "execution_count": null,
      "outputs": []
    },
    {
      "cell_type": "code",
      "source": [
        "preprocessed = {}\n",
        "failed_text = {}\n",
        "for path in tqdm(pathes):\n",
        "  try:\n",
        "    save_path = f'{path[:-12]}/translation_{path[-18:-12]}.txt'\n",
        "    translation = prompt(texts[path])\n",
        "    with open(save_path,'w') as f:\n",
        "      f.write(translation)\n",
        "    preprocessed[save_path] = translation\n",
        "  except Exception as e:\n",
        "    failed_text[path] = e"
      ],
      "metadata": {
        "id": "VL6o5-p1PJ14",
        "outputId": "7ef06197-5979-4e7e-c737-126716ffc5b7",
        "colab": {
          "base_uri": "https://localhost:8080/",
          "height": 49,
          "referenced_widgets": [
            "c8e3b37edc9f42789a280a54453b86d9",
            "f00486c63f884af3aa70b22c7e731a92",
            "a2bc87195b944d4885a4002cc99e3913",
            "03ad8d1988ed4d2899bd7f2eaac89274",
            "b7e3e819101942bd8973d4917a33ae70",
            "2c0234a0843146c382b073997648fafe",
            "aab233b9cf304120b4f8d2f6a0360fc7",
            "4c7085438ca04f95b3689742bad366e2",
            "d4104e21767e421c82bb06f78637b119",
            "9cf3dad01c9d432c943e57c5299b5ee7",
            "9910f852c05f474393a45a89df544566"
          ]
        }
      },
      "execution_count": null,
      "outputs": [
        {
          "output_type": "display_data",
          "data": {
            "text/plain": [
              "  0%|          | 0/22 [00:00<?, ?it/s]"
            ],
            "application/vnd.jupyter.widget-view+json": {
              "version_major": 2,
              "version_minor": 0,
              "model_id": "c8e3b37edc9f42789a280a54453b86d9"
            }
          },
          "metadata": {}
        }
      ]
    },
    {
      "cell_type": "code",
      "source": [],
      "metadata": {
        "id": "hEKC0bEcWGf_"
      },
      "execution_count": null,
      "outputs": []
    },
    {
      "cell_type": "markdown",
      "source": [
        "## Voice part"
      ],
      "metadata": {
        "id": "Y3BxwJwZ5IZW"
      }
    },
    {
      "cell_type": "code",
      "source": [],
      "metadata": {
        "id": "S2xcCzG_5KzV"
      },
      "execution_count": null,
      "outputs": []
    }
  ]
}